{
 "cells": [
  {
   "cell_type": "markdown",
   "id": "fc5c458c",
   "metadata": {},
   "source": [
    "# **Clustering Visualizations**\n",
    "- Interactive world map showing political risk clusters\n",
    "- Cluster profile analysis and country rankings\n",
    "- Geographic distribution patterns of democratic governance\n",
    "- Business insights for investment decision-making"
   ]
  },
  {
   "cell_type": "markdown",
   "id": "ca904da8",
   "metadata": {},
   "source": [
    "### Preloading necessary libraries"
   ]
  },
  {
   "cell_type": "code",
   "execution_count": 12,
   "id": "2a7ea485",
   "metadata": {},
   "outputs": [],
   "source": [
    "import pandas as pd # DataFrame creation\n",
    "\n",
    "import matplotlib.pyplot as plt # Visualizations\n",
    "import seaborn as sns # Visualizations\n",
    "import plotly.express as px\n",
    "import plotly.graph_objects as go\n",
    "\n",
    "from sklearn.preprocessing import StandardScaler # Preprocessing - Scaling\n",
    "from sklearn.cluster import KMeans # K-means Clustering\n",
    "from sklearn.cluster import AgglomerativeClustering # Hierarchical Clustering"
   ]
  },
  {
   "cell_type": "code",
   "execution_count": 13,
   "id": "754e3050",
   "metadata": {},
   "outputs": [],
   "source": [
    "# Loading dataset\n",
    "path = 'https://raw.githubusercontent.com/JustGlowing/minisom/refs/heads/master/examples/democracy_index.csv'\n",
    "df = pd.read_csv(path)\n",
    "\n",
    "# Initialise the Scaler\n",
    "scaler = StandardScaler()\n",
    "\n",
    "# Filtering data\n",
    "data_df=df.drop(columns=['democracy_index','rank','country','Unnamed: 0','category'])\n",
    "data_df.head()\n",
    "\n",
    "# To scale data\n",
    "scaled_data=scaler.fit_transform(data_df)\n",
    "\n",
    "# Using K-Means for clustering\n",
    "kmeans = KMeans(n_clusters=5, n_init=10)\n",
    "clusters = kmeans.fit_predict(scaled_data)\n",
    "df['cluster'] = clusters\n"
   ]
  },
  {
   "cell_type": "markdown",
   "id": "da606e36",
   "metadata": {},
   "source": [
    "## **Traditional vs Algorithmic Classification Comparison**"
   ]
  },
  {
   "cell_type": "code",
   "execution_count": 14,
   "id": "52c0019e",
   "metadata": {},
   "outputs": [
    {
     "name": "stdout",
     "output_type": "stream",
     "text": [
      "Traditional EIU Categories\n",
      "\n",
      "K-means Clusters\n"
     ]
    },
    {
     "data": {
      "text/html": [
       "<div>\n",
       "<style scoped>\n",
       "    .dataframe tbody tr th:only-of-type {\n",
       "        vertical-align: middle;\n",
       "    }\n",
       "\n",
       "    .dataframe tbody tr th {\n",
       "        vertical-align: top;\n",
       "    }\n",
       "\n",
       "    .dataframe thead th {\n",
       "        text-align: right;\n",
       "    }\n",
       "</style>\n",
       "<table border=\"1\" class=\"dataframe\">\n",
       "  <thead>\n",
       "    <tr style=\"text-align: right;\">\n",
       "      <th></th>\n",
       "      <th>count</th>\n",
       "      <th>mean</th>\n",
       "      <th>std</th>\n",
       "      <th>min</th>\n",
       "      <th>max</th>\n",
       "    </tr>\n",
       "    <tr>\n",
       "      <th>cluster</th>\n",
       "      <th></th>\n",
       "      <th></th>\n",
       "      <th></th>\n",
       "      <th></th>\n",
       "      <th></th>\n",
       "    </tr>\n",
       "  </thead>\n",
       "  <tbody>\n",
       "    <tr>\n",
       "      <th>1</th>\n",
       "      <td>17</td>\n",
       "      <td>1.881176</td>\n",
       "      <td>0.363385</td>\n",
       "      <td>1.08</td>\n",
       "      <td>2.37</td>\n",
       "    </tr>\n",
       "    <tr>\n",
       "      <th>4</th>\n",
       "      <td>40</td>\n",
       "      <td>3.372000</td>\n",
       "      <td>0.463931</td>\n",
       "      <td>2.45</td>\n",
       "      <td>4.37</td>\n",
       "    </tr>\n",
       "    <tr>\n",
       "      <th>3</th>\n",
       "      <td>35</td>\n",
       "      <td>5.268857</td>\n",
       "      <td>0.489061</td>\n",
       "      <td>4.17</td>\n",
       "      <td>5.98</td>\n",
       "    </tr>\n",
       "    <tr>\n",
       "      <th>0</th>\n",
       "      <td>47</td>\n",
       "      <td>6.877447</td>\n",
       "      <td>0.526710</td>\n",
       "      <td>6.03</td>\n",
       "      <td>7.84</td>\n",
       "    </tr>\n",
       "    <tr>\n",
       "      <th>2</th>\n",
       "      <td>28</td>\n",
       "      <td>8.586071</td>\n",
       "      <td>0.614620</td>\n",
       "      <td>7.79</td>\n",
       "      <td>9.87</td>\n",
       "    </tr>\n",
       "  </tbody>\n",
       "</table>\n",
       "</div>"
      ],
      "text/plain": [
       "         count      mean       std   min   max\n",
       "cluster                                       \n",
       "1           17  1.881176  0.363385  1.08  2.37\n",
       "4           40  3.372000  0.463931  2.45  4.37\n",
       "3           35  5.268857  0.489061  4.17  5.98\n",
       "0           47  6.877447  0.526710  6.03  7.84\n",
       "2           28  8.586071  0.614620  7.79  9.87"
      ]
     },
     "execution_count": 14,
     "metadata": {},
     "output_type": "execute_result"
    }
   ],
   "source": [
    "# Traditional EIU Categories\n",
    "print(\"Traditional EIU Categories\")\n",
    "df.groupby('category')['democracy_index'].agg(['count', 'mean', 'std', 'min', 'max']).sort_values('mean', ascending=True)\n",
    "\n",
    "print(\"\\nK-means Clusters\")\n",
    "df.groupby('cluster')['democracy_index'].agg(['count', 'mean', 'std', 'min', 'max']).sort_values('mean', ascending=True)"
   ]
  },
  {
   "cell_type": "markdown",
   "id": "bb5f1291",
   "metadata": {},
   "source": [
    "## **Global Political Risk Distribution**\n",
    "Interactive map showing how democratic governance clusters geographically"
   ]
  },
  {
   "cell_type": "code",
   "execution_count": 15,
   "id": "0dc130d3",
   "metadata": {},
   "outputs": [
    {
     "name": "stderr",
     "output_type": "stream",
     "text": [
      "C:\\Users\\aleja\\AppData\\Local\\Temp\\ipykernel_36812\\4039979949.py:2: DeprecationWarning:\n",
      "\n",
      "The library used by the *country names* `locationmode` option is changing in an upcoming version. Country names in existing plots may not work in the new version. To ensure consistent behavior, consider setting `locationmode` to *ISO-3*.\n",
      "\n"
     ]
    },
    {
     "data": {
      "application/vnd.plotly.v1+json": {
       "config": {
        "plotlyServerURL": "https://plot.ly"
       },
       "data": [
        {
         "coloraxis": "coloraxis",
         "customdata": {
          "bdata": "PQrXo3C9I0ApXI/C9SgjQEjhehSuxyJAhetRuB6FIkBxPQrXo3AiQM3MzMzMTCJAzczMzMxMIkBI4XoUrkciQK5H4XoULiJAj8L1KFwPIkBI4XoUrschQB+F61G4niFAXI/C9ShcIUCPwvUoXA8hQMP1KFyPwiBAFK5H4XqUIEBxPQrXo3AgQOxRuB6FayBAKVyPwvUoIECkcD0K1yMgQAAAAAAAACBA9ihcj8L1H0DhehSuR+EfQOF6FK5H4R9A16NwPQrXH0CF61G4HoUfQFyPwvUoXB9APQrXo3A9H0AzMzMzMzMfQClcj8L1KB9AH4XrUbgeH0DsUbgeheseQNejcD0K1x5Aw/UoXI/CHkBcj8L1KFweQAAAAAAAAB5AAAAAAAAAHkCF61G4HoUdQClcj8L1KB1A9ihcj8L1HEDsUbgehescQMP1KFyPwhxApHA9CtejHEBmZmZmZmYcQDMzMzMzMxxAH4XrUbgeHEAUrkfhehQcQBSuR+F6FBxA7FG4HoXrG0DhehSuR+EbQNejcD0K1xtAhetRuB6FG0DXo3A9CtcaQK5H4XoUrhpArkfhehSuGkCPwvUoXI8aQIXrUbgehRpAhetRuB6FGkBmZmZmZmYaQEjhehSuRxpAKVyPwvUoGkAAAAAAAAAaQKRwPQrXoxlApHA9CtejGUCPwvUoXI8ZQIXrUbgehRlAhetRuB6FGUAUrkfhehQZQAAAAAAAABlA9ihcj8L1GEDD9Shcj8IYQMP1KFyPwhhAmpmZmZmZGECamZmZmZkYQB+F61G4HhhA7FG4HoXrF0DXo3A9CtcXQHsUrkfhehdAZmZmZmZmF0BmZmZmZmYXQPYoXI/C9RZA9ihcj8L1FkDNzMzMzMwWQMP1KFyPwhZAhetRuB6FFkBxPQrXo3AWQGZmZmZmZhZASOF6FK5HFkAAAAAAAAAWQPYoXI/C9RVApHA9CtejFUCkcD0K16MVQGZmZmZmZhVAMzMzMzMzFUDhehSuR+EUQM3MzMzMzBRAuB6F61G4FEBxPQrXo3AUQHE9CtejcBRA9ihcj8L1E0DsUbgehesTQKRwPQrXoxNAKVyPwvUoE0AAAAAAAAATQKRwPQrXoxJAhetRuB6FEkCF61G4HoUSQMP1KFyPwhFAj8L1KFyPEUB7FK5H4XoRQD0K16NwPRFArkfhehSuEECamZmZmZkQQD0K16NwPRBAcT0K16NwD0DNzMzMzMwOQM3MzMzMzA5ApHA9CtejDkCPwvUoXI8OQBSuR+F6FA5ArkfhehSuDUAK16NwPQoNQPYoXI/C9QxA4XoUrkfhDEC4HoXrUbgMQAAAAAAAAAxA4XoUrkfhCkDNzMzMzMwKQM3MzMzMzApAj8L1KFyPCkB7FK5H4XoKQD0K16NwPQpAhetRuB6FCUBI4XoUrkcJQEjhehSuRwlAH4XrUbgeCUAK16NwPQoJQM3MzMzMzAhApHA9CtejCEBSuB6F61EIQD0K16NwPQhAAAAAAAAACEDD9Shcj8IHQIXrUbgehQdAhetRuB6FB0D2KFyPwvUGQBSuR+F6FAZArkfhehSuBUAzMzMzMzMFQJqZmZmZmQNA9ihcj8L1AkD2KFyPwvUCQKRwPQrXowJAhetRuB6FAUAzMzMzMzMBQBSuR+F6FABArkfhehSu/z8zMzMzMzP/P+F6FK5H4f4/4XoUrkfh/j+4HoXrUbj+P4XrUbgehfs/w/UoXI/C+T9SuB6F61H4P9ejcD0K1/c/4XoUrkfh9j9I4XoUrkfxPw==",
          "dtype": "f8",
          "shape": "167, 1"
         },
         "geo": "geo",
         "hovertemplate": "country=%{location}<br>democracy_index=%{customdata[0]}<br>cluster=%{z}<extra></extra>",
         "locationmode": "country names",
         "locations": [
          "Norway",
          "Iceland",
          "Sweden",
          "New Zealand",
          "Denmark",
          "Ireland",
          "Canada",
          "Finland",
          "Australia",
          "Switzerland",
          "Netherlands",
          "Luxembourg",
          "Germany",
          "United Kingdom",
          "Uruguay",
          "Austria",
          "Mauritius",
          "Malta",
          "Spain",
          "Costa Rica",
          "South Korea",
          "Japan",
          "Chile",
          "Estonia",
          "United States",
          "Cape Verde",
          "Portugal",
          "Botswana",
          "France",
          "Israel",
          "Belgium",
          "Republic of China (Taiwan)",
          "Italy",
          "Czech Republic",
          "Cyprus",
          "Slovenia",
          "Lithuania",
          "Latvia",
          "Greece",
          "South Africa",
          "India",
          "Timor-Leste",
          "Trinidad and Tobago",
          "Slovakia",
          "Panama",
          "Bulgaria",
          "Argentina",
          "Jamaica",
          "Suriname",
          "Brazil",
          "Colombia",
          "Malaysia",
          "Philippines",
          "Poland",
          "Guyana",
          "Lesotho",
          "Ghana",
          "Hungary",
          "Peru",
          "Croatia",
          "Dominican Republic",
          "Mongolia",
          "Serbia",
          "Tunisia",
          "Indonesia",
          "Singapore",
          "Romania",
          "Ecuador",
          "Namibia",
          "Paraguay",
          "Sri Lanka",
          "Mexico",
          "Hong Kong",
          "Senegal",
          "Papua New Guinea",
          "Albania",
          "El Salvador",
          "North Macedonia",
          "Moldova",
          "Fiji",
          "Montenegro",
          "Benin",
          "Bolivia",
          "Ukraine",
          "Honduras",
          "Zambia",
          "Guatemala",
          "Bangladesh",
          "Georgia",
          "Malawi",
          "Tanzania",
          "Mali",
          "Liberia",
          "Bhutan",
          "Madagascar",
          "Uganda",
          "Nepal",
          "Kenya",
          "Kyrgyzstan",
          "Morocco",
          "Bosnia and Herzegovina",
          "Haiti",
          "Armenia",
          "Burkina Faso",
          "Sierra Leone",
          "Lebanon",
          "Thailand",
          "Nigeria",
          "Palestine",
          "Turkey",
          "Gambia",
          "Pakistan",
          "Ivory Coast",
          "Iraq",
          "Jordan",
          "Mozambique",
          "Kuwait",
          "Myanmar",
          "Mauritania",
          "Niger",
          "Comoros",
          "Nicaragua",
          "Angola",
          "Gabon",
          "Cambodia",
          "Algeria",
          "Egypt",
          "Ethiopia",
          "Rwanda",
          "China",
          "Republic of the Congo",
          "Cameroon",
          "Qatar",
          "Zimbabwe",
          "Venezuela",
          "Guinea",
          "Belarus",
          "Togo",
          "Vietnam",
          "Oman",
          "Swaziland",
          "Cuba",
          "Afghanistan",
          "Kazakhstan",
          "Russia",
          "Djibouti",
          "United Arab Emirates",
          "Bahrain",
          "Azerbaijan",
          "Iran",
          "Eritrea",
          "Laos",
          "Burundi",
          "Libya",
          "Sudan",
          "Uzbekistan",
          "Guinea-Bissau",
          "Yemen",
          "Saudi Arabia",
          "Tajikistan",
          "Equatorial Guinea",
          "Turkmenistan",
          "Chad",
          "Central African Republic",
          "Democratic Republic of the Congo",
          "Syria",
          "North Korea"
         ],
         "name": "",
         "type": "choropleth",
         "z": {
          "bdata": "AgAAAAIAAAACAAAAAgAAAAIAAAACAAAAAgAAAAIAAAACAAAAAgAAAAIAAAACAAAAAgAAAAIAAAACAAAAAgAAAAIAAAACAAAAAgAAAAIAAAACAAAAAgAAAAIAAAACAAAAAgAAAAIAAAAAAAAAAgAAAAAAAAACAAAAAAAAAAAAAAAAAAAAAAAAAAAAAAAAAAAAAAAAAAAAAAAAAAAAAAAAAAAAAAAAAAAAAAAAAAAAAAAAAAAAAAAAAAAAAAAAAAAAAAAAAAAAAAAAAAAAAAAAAAAAAAAAAAAAAAAAAAAAAAAAAAAAAAAAAAAAAAAAAAAAAAAAAAAAAAAAAAAAAAAAAAAAAAAAAAAAAAAAAAAAAAAAAAAAAAAAAAAAAAAAAAAAAAAAAAAAAAAAAAAAAwAAAAMAAAADAAAAAwAAAAMAAAADAAAAAwAAAAMAAAADAAAAAwAAAAMAAAADAAAAAwAAAAMAAAADAAAAAwAAAAMAAAADAAAAAwAAAAMAAAADAAAAAwAAAAMAAAADAAAAAwAAAAMAAAADAAAAAwAAAAMAAAADAAAAAwAAAAMAAAADAAAAAwAAAAQAAAAEAAAAAwAAAAQAAAAEAAAABAAAAAQAAAAEAAAABAAAAAQAAAAEAAAABAAAAAQAAAAEAAAABAAAAAQAAAAEAAAABAAAAAQAAAAEAAAABAAAAAQAAAAEAAAABAAAAAQAAAAEAAAABAAAAAQAAAAEAAAABAAAAAQAAAAEAAAABAAAAAQAAAAEAAAABAAAAAQAAAAEAAAABAAAAAQAAAAEAAAAAQAAAAEAAAABAAAAAQAAAAEAAAABAAAAAQAAAAEAAAABAAAAAQAAAAEAAAABAAAAAQAAAAEAAAABAAAAAQAAAAEAAAA=",
          "dtype": "i4"
         }
        }
       ],
       "layout": {
        "coloraxis": {
         "colorbar": {
          "title": {
           "text": "cluster"
          }
         },
         "colorscale": [
          [
           0,
           "#0d0887"
          ],
          [
           0.1111111111111111,
           "#46039f"
          ],
          [
           0.2222222222222222,
           "#7201a8"
          ],
          [
           0.3333333333333333,
           "#9c179e"
          ],
          [
           0.4444444444444444,
           "#bd3786"
          ],
          [
           0.5555555555555556,
           "#d8576b"
          ],
          [
           0.6666666666666666,
           "#ed7953"
          ],
          [
           0.7777777777777778,
           "#fb9f3a"
          ],
          [
           0.8888888888888888,
           "#fdca26"
          ],
          [
           1,
           "#f0f921"
          ]
         ]
        },
        "geo": {
         "center": {},
         "domain": {
          "x": [
           0,
           1
          ],
          "y": [
           0,
           1
          ]
         }
        },
        "legend": {
         "tracegroupgap": 0
        },
        "template": {
         "data": {
          "bar": [
           {
            "error_x": {
             "color": "#2a3f5f"
            },
            "error_y": {
             "color": "#2a3f5f"
            },
            "marker": {
             "line": {
              "color": "#E5ECF6",
              "width": 0.5
             },
             "pattern": {
              "fillmode": "overlay",
              "size": 10,
              "solidity": 0.2
             }
            },
            "type": "bar"
           }
          ],
          "barpolar": [
           {
            "marker": {
             "line": {
              "color": "#E5ECF6",
              "width": 0.5
             },
             "pattern": {
              "fillmode": "overlay",
              "size": 10,
              "solidity": 0.2
             }
            },
            "type": "barpolar"
           }
          ],
          "carpet": [
           {
            "aaxis": {
             "endlinecolor": "#2a3f5f",
             "gridcolor": "white",
             "linecolor": "white",
             "minorgridcolor": "white",
             "startlinecolor": "#2a3f5f"
            },
            "baxis": {
             "endlinecolor": "#2a3f5f",
             "gridcolor": "white",
             "linecolor": "white",
             "minorgridcolor": "white",
             "startlinecolor": "#2a3f5f"
            },
            "type": "carpet"
           }
          ],
          "choropleth": [
           {
            "colorbar": {
             "outlinewidth": 0,
             "ticks": ""
            },
            "type": "choropleth"
           }
          ],
          "contour": [
           {
            "colorbar": {
             "outlinewidth": 0,
             "ticks": ""
            },
            "colorscale": [
             [
              0,
              "#0d0887"
             ],
             [
              0.1111111111111111,
              "#46039f"
             ],
             [
              0.2222222222222222,
              "#7201a8"
             ],
             [
              0.3333333333333333,
              "#9c179e"
             ],
             [
              0.4444444444444444,
              "#bd3786"
             ],
             [
              0.5555555555555556,
              "#d8576b"
             ],
             [
              0.6666666666666666,
              "#ed7953"
             ],
             [
              0.7777777777777778,
              "#fb9f3a"
             ],
             [
              0.8888888888888888,
              "#fdca26"
             ],
             [
              1,
              "#f0f921"
             ]
            ],
            "type": "contour"
           }
          ],
          "contourcarpet": [
           {
            "colorbar": {
             "outlinewidth": 0,
             "ticks": ""
            },
            "type": "contourcarpet"
           }
          ],
          "heatmap": [
           {
            "colorbar": {
             "outlinewidth": 0,
             "ticks": ""
            },
            "colorscale": [
             [
              0,
              "#0d0887"
             ],
             [
              0.1111111111111111,
              "#46039f"
             ],
             [
              0.2222222222222222,
              "#7201a8"
             ],
             [
              0.3333333333333333,
              "#9c179e"
             ],
             [
              0.4444444444444444,
              "#bd3786"
             ],
             [
              0.5555555555555556,
              "#d8576b"
             ],
             [
              0.6666666666666666,
              "#ed7953"
             ],
             [
              0.7777777777777778,
              "#fb9f3a"
             ],
             [
              0.8888888888888888,
              "#fdca26"
             ],
             [
              1,
              "#f0f921"
             ]
            ],
            "type": "heatmap"
           }
          ],
          "histogram": [
           {
            "marker": {
             "pattern": {
              "fillmode": "overlay",
              "size": 10,
              "solidity": 0.2
             }
            },
            "type": "histogram"
           }
          ],
          "histogram2d": [
           {
            "colorbar": {
             "outlinewidth": 0,
             "ticks": ""
            },
            "colorscale": [
             [
              0,
              "#0d0887"
             ],
             [
              0.1111111111111111,
              "#46039f"
             ],
             [
              0.2222222222222222,
              "#7201a8"
             ],
             [
              0.3333333333333333,
              "#9c179e"
             ],
             [
              0.4444444444444444,
              "#bd3786"
             ],
             [
              0.5555555555555556,
              "#d8576b"
             ],
             [
              0.6666666666666666,
              "#ed7953"
             ],
             [
              0.7777777777777778,
              "#fb9f3a"
             ],
             [
              0.8888888888888888,
              "#fdca26"
             ],
             [
              1,
              "#f0f921"
             ]
            ],
            "type": "histogram2d"
           }
          ],
          "histogram2dcontour": [
           {
            "colorbar": {
             "outlinewidth": 0,
             "ticks": ""
            },
            "colorscale": [
             [
              0,
              "#0d0887"
             ],
             [
              0.1111111111111111,
              "#46039f"
             ],
             [
              0.2222222222222222,
              "#7201a8"
             ],
             [
              0.3333333333333333,
              "#9c179e"
             ],
             [
              0.4444444444444444,
              "#bd3786"
             ],
             [
              0.5555555555555556,
              "#d8576b"
             ],
             [
              0.6666666666666666,
              "#ed7953"
             ],
             [
              0.7777777777777778,
              "#fb9f3a"
             ],
             [
              0.8888888888888888,
              "#fdca26"
             ],
             [
              1,
              "#f0f921"
             ]
            ],
            "type": "histogram2dcontour"
           }
          ],
          "mesh3d": [
           {
            "colorbar": {
             "outlinewidth": 0,
             "ticks": ""
            },
            "type": "mesh3d"
           }
          ],
          "parcoords": [
           {
            "line": {
             "colorbar": {
              "outlinewidth": 0,
              "ticks": ""
             }
            },
            "type": "parcoords"
           }
          ],
          "pie": [
           {
            "automargin": true,
            "type": "pie"
           }
          ],
          "scatter": [
           {
            "fillpattern": {
             "fillmode": "overlay",
             "size": 10,
             "solidity": 0.2
            },
            "type": "scatter"
           }
          ],
          "scatter3d": [
           {
            "line": {
             "colorbar": {
              "outlinewidth": 0,
              "ticks": ""
             }
            },
            "marker": {
             "colorbar": {
              "outlinewidth": 0,
              "ticks": ""
             }
            },
            "type": "scatter3d"
           }
          ],
          "scattercarpet": [
           {
            "marker": {
             "colorbar": {
              "outlinewidth": 0,
              "ticks": ""
             }
            },
            "type": "scattercarpet"
           }
          ],
          "scattergeo": [
           {
            "marker": {
             "colorbar": {
              "outlinewidth": 0,
              "ticks": ""
             }
            },
            "type": "scattergeo"
           }
          ],
          "scattergl": [
           {
            "marker": {
             "colorbar": {
              "outlinewidth": 0,
              "ticks": ""
             }
            },
            "type": "scattergl"
           }
          ],
          "scattermap": [
           {
            "marker": {
             "colorbar": {
              "outlinewidth": 0,
              "ticks": ""
             }
            },
            "type": "scattermap"
           }
          ],
          "scattermapbox": [
           {
            "marker": {
             "colorbar": {
              "outlinewidth": 0,
              "ticks": ""
             }
            },
            "type": "scattermapbox"
           }
          ],
          "scatterpolar": [
           {
            "marker": {
             "colorbar": {
              "outlinewidth": 0,
              "ticks": ""
             }
            },
            "type": "scatterpolar"
           }
          ],
          "scatterpolargl": [
           {
            "marker": {
             "colorbar": {
              "outlinewidth": 0,
              "ticks": ""
             }
            },
            "type": "scatterpolargl"
           }
          ],
          "scatterternary": [
           {
            "marker": {
             "colorbar": {
              "outlinewidth": 0,
              "ticks": ""
             }
            },
            "type": "scatterternary"
           }
          ],
          "surface": [
           {
            "colorbar": {
             "outlinewidth": 0,
             "ticks": ""
            },
            "colorscale": [
             [
              0,
              "#0d0887"
             ],
             [
              0.1111111111111111,
              "#46039f"
             ],
             [
              0.2222222222222222,
              "#7201a8"
             ],
             [
              0.3333333333333333,
              "#9c179e"
             ],
             [
              0.4444444444444444,
              "#bd3786"
             ],
             [
              0.5555555555555556,
              "#d8576b"
             ],
             [
              0.6666666666666666,
              "#ed7953"
             ],
             [
              0.7777777777777778,
              "#fb9f3a"
             ],
             [
              0.8888888888888888,
              "#fdca26"
             ],
             [
              1,
              "#f0f921"
             ]
            ],
            "type": "surface"
           }
          ],
          "table": [
           {
            "cells": {
             "fill": {
              "color": "#EBF0F8"
             },
             "line": {
              "color": "white"
             }
            },
            "header": {
             "fill": {
              "color": "#C8D4E3"
             },
             "line": {
              "color": "white"
             }
            },
            "type": "table"
           }
          ]
         },
         "layout": {
          "annotationdefaults": {
           "arrowcolor": "#2a3f5f",
           "arrowhead": 0,
           "arrowwidth": 1
          },
          "autotypenumbers": "strict",
          "coloraxis": {
           "colorbar": {
            "outlinewidth": 0,
            "ticks": ""
           }
          },
          "colorscale": {
           "diverging": [
            [
             0,
             "#8e0152"
            ],
            [
             0.1,
             "#c51b7d"
            ],
            [
             0.2,
             "#de77ae"
            ],
            [
             0.3,
             "#f1b6da"
            ],
            [
             0.4,
             "#fde0ef"
            ],
            [
             0.5,
             "#f7f7f7"
            ],
            [
             0.6,
             "#e6f5d0"
            ],
            [
             0.7,
             "#b8e186"
            ],
            [
             0.8,
             "#7fbc41"
            ],
            [
             0.9,
             "#4d9221"
            ],
            [
             1,
             "#276419"
            ]
           ],
           "sequential": [
            [
             0,
             "#0d0887"
            ],
            [
             0.1111111111111111,
             "#46039f"
            ],
            [
             0.2222222222222222,
             "#7201a8"
            ],
            [
             0.3333333333333333,
             "#9c179e"
            ],
            [
             0.4444444444444444,
             "#bd3786"
            ],
            [
             0.5555555555555556,
             "#d8576b"
            ],
            [
             0.6666666666666666,
             "#ed7953"
            ],
            [
             0.7777777777777778,
             "#fb9f3a"
            ],
            [
             0.8888888888888888,
             "#fdca26"
            ],
            [
             1,
             "#f0f921"
            ]
           ],
           "sequentialminus": [
            [
             0,
             "#0d0887"
            ],
            [
             0.1111111111111111,
             "#46039f"
            ],
            [
             0.2222222222222222,
             "#7201a8"
            ],
            [
             0.3333333333333333,
             "#9c179e"
            ],
            [
             0.4444444444444444,
             "#bd3786"
            ],
            [
             0.5555555555555556,
             "#d8576b"
            ],
            [
             0.6666666666666666,
             "#ed7953"
            ],
            [
             0.7777777777777778,
             "#fb9f3a"
            ],
            [
             0.8888888888888888,
             "#fdca26"
            ],
            [
             1,
             "#f0f921"
            ]
           ]
          },
          "colorway": [
           "#636efa",
           "#EF553B",
           "#00cc96",
           "#ab63fa",
           "#FFA15A",
           "#19d3f3",
           "#FF6692",
           "#B6E880",
           "#FF97FF",
           "#FECB52"
          ],
          "font": {
           "color": "#2a3f5f"
          },
          "geo": {
           "bgcolor": "white",
           "lakecolor": "white",
           "landcolor": "#E5ECF6",
           "showlakes": true,
           "showland": true,
           "subunitcolor": "white"
          },
          "hoverlabel": {
           "align": "left"
          },
          "hovermode": "closest",
          "mapbox": {
           "style": "light"
          },
          "paper_bgcolor": "white",
          "plot_bgcolor": "#E5ECF6",
          "polar": {
           "angularaxis": {
            "gridcolor": "white",
            "linecolor": "white",
            "ticks": ""
           },
           "bgcolor": "#E5ECF6",
           "radialaxis": {
            "gridcolor": "white",
            "linecolor": "white",
            "ticks": ""
           }
          },
          "scene": {
           "xaxis": {
            "backgroundcolor": "#E5ECF6",
            "gridcolor": "white",
            "gridwidth": 2,
            "linecolor": "white",
            "showbackground": true,
            "ticks": "",
            "zerolinecolor": "white"
           },
           "yaxis": {
            "backgroundcolor": "#E5ECF6",
            "gridcolor": "white",
            "gridwidth": 2,
            "linecolor": "white",
            "showbackground": true,
            "ticks": "",
            "zerolinecolor": "white"
           },
           "zaxis": {
            "backgroundcolor": "#E5ECF6",
            "gridcolor": "white",
            "gridwidth": 2,
            "linecolor": "white",
            "showbackground": true,
            "ticks": "",
            "zerolinecolor": "white"
           }
          },
          "shapedefaults": {
           "line": {
            "color": "#2a3f5f"
           }
          },
          "ternary": {
           "aaxis": {
            "gridcolor": "white",
            "linecolor": "white",
            "ticks": ""
           },
           "baxis": {
            "gridcolor": "white",
            "linecolor": "white",
            "ticks": ""
           },
           "bgcolor": "#E5ECF6",
           "caxis": {
            "gridcolor": "white",
            "linecolor": "white",
            "ticks": ""
           }
          },
          "title": {
           "x": 0.05
          },
          "xaxis": {
           "automargin": true,
           "gridcolor": "white",
           "linecolor": "white",
           "ticks": "",
           "title": {
            "standoff": 15
           },
           "zerolinecolor": "white",
           "zerolinewidth": 2
          },
          "yaxis": {
           "automargin": true,
           "gridcolor": "white",
           "linecolor": "white",
           "ticks": "",
           "title": {
            "standoff": 15
           },
           "zerolinecolor": "white",
           "zerolinewidth": 2
          }
         }
        },
        "title": {
         "text": "Global Political Risk Clusters"
        }
       }
      }
     },
     "metadata": {},
     "output_type": "display_data"
    }
   ],
   "source": [
    "# Create world map colored by cluster\n",
    "fig = px.choropleth(df, \n",
    "                   locations='country', \n",
    "                   locationmode='country names',\n",
    "                   color='cluster',\n",
    "                   hover_data=['democracy_index'],\n",
    "                   color_discrete_sequence=px.colors.qualitative.Set1,\n",
    "                   title=\"Global Political Risk Clusters\")\n",
    "fig.show()"
   ]
  },
  {
   "cell_type": "markdown",
   "id": "44cd57d8",
   "metadata": {},
   "source": [
    "## **Cluster Overlap Analysis**\n",
    "Density plots reveal significant boundary ambiguities between political risk tiers"
   ]
  },
  {
   "cell_type": "code",
   "execution_count": 16,
   "id": "70410613",
   "metadata": {},
   "outputs": [
    {
     "data": {
      "image/png": "[encoded data removed]",
      "text/plain": [
       "<Figure size 1200x600 with 1 Axes>"
      ]
     },
     "metadata": {},
     "output_type": "display_data"
    }
   ],
   "source": [
    "plt.figure(figsize=(12, 6))\n",
    "sns.kdeplot(data=df, x='democracy_index', hue='cluster', common_norm=False, fill=True, palette='viridis')\n",
    "\n",
    "plt.title(\"Density Plot of Democracy Index by Cluster\")\n",
    "plt.show()"
   ]
  },
  {
   "cell_type": "markdown",
   "id": "7fcf753f",
   "metadata": {},
   "source": [
    "The density visualization confirms substantial overlap between clusters, particularly clusters 0-3, supporting the conclusion that many countries exist in transitional governance zones requiring individual assessment beyond algorithmic classification."
   ]
  },
  {
   "cell_type": "markdown",
   "id": "9aad5e4b",
   "metadata": {},
   "source": [
    "## **Cluster Country Listings**"
   ]
  },
  {
   "cell_type": "code",
   "execution_count": 17,
   "id": "a762f15b",
   "metadata": {},
   "outputs": [
    {
     "name": "stdout",
     "output_type": "stream",
     "text": [
      "\n",
      "--- Cluster 0 (47 countries) ---\n",
      "Countries: Portugal, France, Belgium, Republic of China (Taiwan), Italy, Czech Republic, Cyprus, Slovenia, Lithuania, Latvia, Greece, South Africa, India, Timor-Leste, Trinidad and Tobago, Slovakia, Panama, Bulgaria, Argentina, Jamaica, Suriname, Brazil, Colombia, Malaysia, Philippines, Poland, Guyana, Lesotho, Ghana, Hungary, Peru, Croatia, Dominican Republic, Mongolia, Serbia, Tunisia, Indonesia, Singapore, Romania, Ecuador, Namibia, Paraguay, Sri Lanka, Mexico, Hong Kong, Senegal, Papua New Guinea\n",
      "\n",
      "--- Cluster 1 (17 countries) ---\n",
      "Countries: Eritrea, Laos, Burundi, Libya, Sudan, Uzbekistan, Guinea-Bissau, Yemen, Saudi Arabia, Tajikistan, Equatorial Guinea, Turkmenistan, Chad, Central African Republic, Democratic Republic of the Congo, Syria, North Korea\n",
      "\n",
      "--- Cluster 2 (28 countries) ---\n",
      "Countries: Norway, Iceland, Sweden, New Zealand, Denmark, Ireland, Canada, Finland, Australia, Switzerland, Netherlands, Luxembourg, Germany, United Kingdom, Uruguay, Austria, Mauritius, Malta, Spain, Costa Rica, South Korea, Japan, Chile, Estonia, United States, Cape Verde, Botswana, Israel\n",
      "\n",
      "--- Cluster 3 (35 countries) ---\n",
      "Countries: Albania, El Salvador, North Macedonia, Moldova, Fiji, Montenegro, Benin, Bolivia, Ukraine, Honduras, Zambia, Guatemala, Bangladesh, Georgia, Malawi, Tanzania, Mali, Liberia, Bhutan, Madagascar, Uganda, Nepal, Kenya, Kyrgyzstan, Morocco, Bosnia and Herzegovina, Haiti, Armenia, Burkina Faso, Sierra Leone, Lebanon, Thailand, Nigeria, Palestine, Pakistan\n",
      "\n",
      "--- Cluster 4 (40 countries) ---\n",
      "Countries: Turkey, Gambia, Ivory Coast, Iraq, Jordan, Mozambique, Kuwait, Myanmar, Mauritania, Niger, Comoros, Nicaragua, Angola, Gabon, Cambodia, Algeria, Egypt, Ethiopia, Rwanda, China, Republic of the Congo, Cameroon, Qatar, Zimbabwe, Venezuela, Guinea, Belarus, Togo, Vietnam, Oman, Swaziland, Cuba, Afghanistan, Kazakhstan, Russia, Djibouti, United Arab Emirates, Bahrain, Azerbaijan, Iran\n"
     ]
    }
   ],
   "source": [
    "# Individual cluster country listings\n",
    "for cluster in range(5):\n",
    "    cluster_data = df[df['cluster'] == cluster].sort_values('democracy_index', ascending=False)\n",
    "    print(f\"\\n--- Cluster {cluster} ({len(cluster_data)} countries) ---\")\n",
    "    print(\"Countries:\", \", \".join(cluster_data['country'].tolist()))"
   ]
  }
 ],
 "metadata": {
  "kernelspec": {
   "display_name": ".venv",
   "language": "python",
   "name": "python3"
  },
  "language_info": {
   "codemirror_mode": {
    "name": "ipython",
    "version": 3
   },
   "file_extension": ".py",
   "mimetype": "text/x-python",
   "name": "python",
   "nbconvert_exporter": "python",
   "pygments_lexer": "ipython3",
   "version": "3.13.3"
  }
 },
 "nbformat": 4,
 "nbformat_minor": 5
}
