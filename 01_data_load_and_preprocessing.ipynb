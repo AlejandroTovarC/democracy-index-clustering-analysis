{
 "cells": [
  {
   "cell_type": "markdown",
   "id": "993387a5",
   "metadata": {},
   "source": [
    "## **Dataset Loading and Exploration**\n",
    "- Dataset loading and initial inspection\n",
    "- Data quality assessment and completeness analysis\n",
    "- Exploratory data analysis including correlation matrix\n",
    "- Feature scaling and data preparation for clustering"
   ]
  },
  {
   "cell_type": "markdown",
   "id": "ee2e30fb",
   "metadata": {},
   "source": [
    "### Preloading necessary libraries"
   ]
  },
  {
   "cell_type": "code",
   "execution_count": 14,
   "id": "951c487d",
   "metadata": {},
   "outputs": [],
   "source": [
    "import pandas as pd # DataFrame creation\n",
    "import matplotlib.pyplot as plt # Visualizations\n",
    "import seaborn as sns # Visualizations\n",
    "\n",
    "from sklearn.preprocessing import StandardScaler # Preprocessing - Scaling"
   ]
  },
  {
   "cell_type": "markdown",
   "id": "0b0b0c64",
   "metadata": {},
   "source": [
    "### Loading dataset"
   ]
  },
  {
   "cell_type": "code",
   "execution_count": 3,
   "id": "5a041e50",
   "metadata": {},
   "outputs": [
    {
     "data": {
      "text/html": [
       "<div>\n",
       "<style scoped>\n",
       "    .dataframe tbody tr th:only-of-type {\n",
       "        vertical-align: middle;\n",
       "    }\n",
       "\n",
       "    .dataframe tbody tr th {\n",
       "        vertical-align: top;\n",
       "    }\n",
       "\n",
       "    .dataframe thead th {\n",
       "        text-align: right;\n",
       "    }\n",
       "</style>\n",
       "<table border=\"1\" class=\"dataframe\">\n",
       "  <thead>\n",
       "    <tr style=\"text-align: right;\">\n",
       "      <th></th>\n",
       "      <th>Unnamed: 0</th>\n",
       "      <th>rank</th>\n",
       "      <th>country</th>\n",
       "      <th>democracy_index</th>\n",
       "      <th>electoral_processand_pluralism</th>\n",
       "      <th>functioning_of_government</th>\n",
       "      <th>political_participation</th>\n",
       "      <th>political_culture</th>\n",
       "      <th>civil_liberties</th>\n",
       "      <th>category</th>\n",
       "    </tr>\n",
       "  </thead>\n",
       "  <tbody>\n",
       "    <tr>\n",
       "      <th>0</th>\n",
       "      <td>0</td>\n",
       "      <td>1</td>\n",
       "      <td>Norway</td>\n",
       "      <td>9.87</td>\n",
       "      <td>10.00</td>\n",
       "      <td>9.64</td>\n",
       "      <td>10.00</td>\n",
       "      <td>10.00</td>\n",
       "      <td>9.71</td>\n",
       "      <td>Full democracy</td>\n",
       "    </tr>\n",
       "    <tr>\n",
       "      <th>1</th>\n",
       "      <td>1</td>\n",
       "      <td>2</td>\n",
       "      <td>Iceland</td>\n",
       "      <td>9.58</td>\n",
       "      <td>10.00</td>\n",
       "      <td>9.29</td>\n",
       "      <td>8.89</td>\n",
       "      <td>10.00</td>\n",
       "      <td>9.71</td>\n",
       "      <td>Full democracy</td>\n",
       "    </tr>\n",
       "    <tr>\n",
       "      <th>2</th>\n",
       "      <td>2</td>\n",
       "      <td>3</td>\n",
       "      <td>Sweden</td>\n",
       "      <td>9.39</td>\n",
       "      <td>9.58</td>\n",
       "      <td>9.64</td>\n",
       "      <td>8.33</td>\n",
       "      <td>10.00</td>\n",
       "      <td>9.41</td>\n",
       "      <td>Full democracy</td>\n",
       "    </tr>\n",
       "    <tr>\n",
       "      <th>3</th>\n",
       "      <td>3</td>\n",
       "      <td>4</td>\n",
       "      <td>New Zealand</td>\n",
       "      <td>9.26</td>\n",
       "      <td>10.00</td>\n",
       "      <td>9.29</td>\n",
       "      <td>8.89</td>\n",
       "      <td>8.13</td>\n",
       "      <td>10.00</td>\n",
       "      <td>Full democracy</td>\n",
       "    </tr>\n",
       "    <tr>\n",
       "      <th>4</th>\n",
       "      <td>4</td>\n",
       "      <td>5</td>\n",
       "      <td>Denmark</td>\n",
       "      <td>9.22</td>\n",
       "      <td>10.00</td>\n",
       "      <td>9.29</td>\n",
       "      <td>8.33</td>\n",
       "      <td>9.38</td>\n",
       "      <td>9.12</td>\n",
       "      <td>Full democracy</td>\n",
       "    </tr>\n",
       "  </tbody>\n",
       "</table>\n",
       "</div>"
      ],
      "text/plain": [
       "   Unnamed: 0 rank      country  democracy_index  \\\n",
       "0           0    1       Norway             9.87   \n",
       "1           1    2      Iceland             9.58   \n",
       "2           2    3       Sweden             9.39   \n",
       "3           3    4  New Zealand             9.26   \n",
       "4           4    5      Denmark             9.22   \n",
       "\n",
       "   electoral_processand_pluralism  functioning_of_government  \\\n",
       "0                           10.00                       9.64   \n",
       "1                           10.00                       9.29   \n",
       "2                            9.58                       9.64   \n",
       "3                           10.00                       9.29   \n",
       "4                           10.00                       9.29   \n",
       "\n",
       "   political_participation  political_culture  civil_liberties        category  \n",
       "0                    10.00              10.00             9.71  Full democracy  \n",
       "1                     8.89              10.00             9.71  Full democracy  \n",
       "2                     8.33              10.00             9.41  Full democracy  \n",
       "3                     8.89               8.13            10.00  Full democracy  \n",
       "4                     8.33               9.38             9.12  Full democracy  "
      ]
     },
     "execution_count": 3,
     "metadata": {},
     "output_type": "execute_result"
    }
   ],
   "source": [
    "# Loading dataset\n",
    "path = 'https://raw.githubusercontent.com/JustGlowing/minisom/refs/heads/master/examples/democracy_index.csv'\n",
    "df = pd.read_csv(path)\n",
    "\n",
    "# Displaying first 5 rows\n",
    "df.head()"
   ]
  },
  {
   "cell_type": "markdown",
   "id": "0f634a43",
   "metadata": {},
   "source": [
    "### Exploring dataset"
   ]
  },
  {
   "cell_type": "code",
   "execution_count": 4,
   "id": "9483b84a",
   "metadata": {},
   "outputs": [
    {
     "name": "stdout",
     "output_type": "stream",
     "text": [
      "Size of dataset: \n",
      " (167, 10)\n",
      "\n",
      " Column names & data types: \n",
      " Unnamed: 0                          int64\n",
      "rank                               object\n",
      "country                            object\n",
      "democracy_index                   float64\n",
      "electoral_processand_pluralism    float64\n",
      "functioning_of_government         float64\n",
      "political_participation           float64\n",
      "political_culture                 float64\n",
      "civil_liberties                   float64\n",
      "category                           object\n",
      "dtype: object\n",
      "\n",
      " No null values found\n",
      "Unnamed: 0                        0\n",
      "rank                              0\n",
      "country                           0\n",
      "democracy_index                   0\n",
      "electoral_processand_pluralism    0\n",
      "functioning_of_government         0\n",
      "political_participation           0\n",
      "political_culture                 0\n",
      "civil_liberties                   0\n",
      "category                          0\n",
      "dtype: int64\n"
     ]
    }
   ],
   "source": [
    "# Shape of dataset\n",
    "print('Size of dataset: \\n', df.shape)\n",
    "\n",
    "# Column names and data types\n",
    "print('\\n Column names & data types: \\n', df.dtypes)\n",
    "\n",
    "# Checking for missing values\n",
    "print('\\n No null values found')\n",
    "print(df.isnull().sum()) # No Null values found"
   ]
  },
  {
   "cell_type": "markdown",
   "id": "bc620d7b",
   "metadata": {},
   "source": [
    "#### Dataset demonstrates high completeness with zero missing values across all 167 countries and 5 democracy dimensions, providing a robust foundation for clustering analysis."
   ]
  },
  {
   "cell_type": "markdown",
   "id": "cc8a2f91",
   "metadata": {},
   "source": [
    "### Data Preparation for Clustering\n",
    "Filtering data to show 5 categories"
   ]
  },
  {
   "cell_type": "code",
   "execution_count": 5,
   "id": "5b6179ed",
   "metadata": {},
   "outputs": [
    {
     "data": {
      "text/html": [
       "<div>\n",
       "<style scoped>\n",
       "    .dataframe tbody tr th:only-of-type {\n",
       "        vertical-align: middle;\n",
       "    }\n",
       "\n",
       "    .dataframe tbody tr th {\n",
       "        vertical-align: top;\n",
       "    }\n",
       "\n",
       "    .dataframe thead th {\n",
       "        text-align: right;\n",
       "    }\n",
       "</style>\n",
       "<table border=\"1\" class=\"dataframe\">\n",
       "  <thead>\n",
       "    <tr style=\"text-align: right;\">\n",
       "      <th></th>\n",
       "      <th>electoral_processand_pluralism</th>\n",
       "      <th>functioning_of_government</th>\n",
       "      <th>political_participation</th>\n",
       "      <th>political_culture</th>\n",
       "      <th>civil_liberties</th>\n",
       "    </tr>\n",
       "  </thead>\n",
       "  <tbody>\n",
       "    <tr>\n",
       "      <th>0</th>\n",
       "      <td>10.00</td>\n",
       "      <td>9.64</td>\n",
       "      <td>10.00</td>\n",
       "      <td>10.00</td>\n",
       "      <td>9.71</td>\n",
       "    </tr>\n",
       "    <tr>\n",
       "      <th>1</th>\n",
       "      <td>10.00</td>\n",
       "      <td>9.29</td>\n",
       "      <td>8.89</td>\n",
       "      <td>10.00</td>\n",
       "      <td>9.71</td>\n",
       "    </tr>\n",
       "    <tr>\n",
       "      <th>2</th>\n",
       "      <td>9.58</td>\n",
       "      <td>9.64</td>\n",
       "      <td>8.33</td>\n",
       "      <td>10.00</td>\n",
       "      <td>9.41</td>\n",
       "    </tr>\n",
       "    <tr>\n",
       "      <th>3</th>\n",
       "      <td>10.00</td>\n",
       "      <td>9.29</td>\n",
       "      <td>8.89</td>\n",
       "      <td>8.13</td>\n",
       "      <td>10.00</td>\n",
       "    </tr>\n",
       "    <tr>\n",
       "      <th>4</th>\n",
       "      <td>10.00</td>\n",
       "      <td>9.29</td>\n",
       "      <td>8.33</td>\n",
       "      <td>9.38</td>\n",
       "      <td>9.12</td>\n",
       "    </tr>\n",
       "  </tbody>\n",
       "</table>\n",
       "</div>"
      ],
      "text/plain": [
       "   electoral_processand_pluralism  functioning_of_government  \\\n",
       "0                           10.00                       9.64   \n",
       "1                           10.00                       9.29   \n",
       "2                            9.58                       9.64   \n",
       "3                           10.00                       9.29   \n",
       "4                           10.00                       9.29   \n",
       "\n",
       "   political_participation  political_culture  civil_liberties  \n",
       "0                    10.00              10.00             9.71  \n",
       "1                     8.89              10.00             9.71  \n",
       "2                     8.33              10.00             9.41  \n",
       "3                     8.89               8.13            10.00  \n",
       "4                     8.33               9.38             9.12  "
      ]
     },
     "execution_count": 5,
     "metadata": {},
     "output_type": "execute_result"
    }
   ],
   "source": [
    "data_df=df.drop(columns=['democracy_index','rank','country','Unnamed: 0','category'])\n",
    "data_df.head()"
   ]
  },
  {
   "cell_type": "markdown",
   "id": "e6eb492c",
   "metadata": {},
   "source": [
    "Before scaling data, we need to look at the dataset properties to determine if scaling is needed.\n"
   ]
  },
  {
   "cell_type": "code",
   "execution_count": 6,
   "id": "caa54658",
   "metadata": {},
   "outputs": [
    {
     "data": {
      "text/html": [
       "<div>\n",
       "<style scoped>\n",
       "    .dataframe tbody tr th:only-of-type {\n",
       "        vertical-align: middle;\n",
       "    }\n",
       "\n",
       "    .dataframe tbody tr th {\n",
       "        vertical-align: top;\n",
       "    }\n",
       "\n",
       "    .dataframe thead th {\n",
       "        text-align: right;\n",
       "    }\n",
       "</style>\n",
       "<table border=\"1\" class=\"dataframe\">\n",
       "  <thead>\n",
       "    <tr style=\"text-align: right;\">\n",
       "      <th></th>\n",
       "      <th>electoral_processand_pluralism</th>\n",
       "      <th>functioning_of_government</th>\n",
       "      <th>political_participation</th>\n",
       "      <th>political_culture</th>\n",
       "      <th>civil_liberties</th>\n",
       "    </tr>\n",
       "  </thead>\n",
       "  <tbody>\n",
       "    <tr>\n",
       "      <th>count</th>\n",
       "      <td>167.000000</td>\n",
       "      <td>167.000000</td>\n",
       "      <td>167.00000</td>\n",
       "      <td>167.000000</td>\n",
       "      <td>167.000000</td>\n",
       "    </tr>\n",
       "    <tr>\n",
       "      <th>mean</th>\n",
       "      <td>5.902934</td>\n",
       "      <td>4.884671</td>\n",
       "      <td>5.24976</td>\n",
       "      <td>5.593952</td>\n",
       "      <td>5.768263</td>\n",
       "    </tr>\n",
       "    <tr>\n",
       "      <th>std</th>\n",
       "      <td>3.540180</td>\n",
       "      <td>2.522545</td>\n",
       "      <td>1.87654</td>\n",
       "      <td>1.647974</td>\n",
       "      <td>2.676157</td>\n",
       "    </tr>\n",
       "    <tr>\n",
       "      <th>min</th>\n",
       "      <td>0.000000</td>\n",
       "      <td>0.000000</td>\n",
       "      <td>1.11000</td>\n",
       "      <td>1.250000</td>\n",
       "      <td>0.000000</td>\n",
       "    </tr>\n",
       "    <tr>\n",
       "      <th>25%</th>\n",
       "      <td>3.000000</td>\n",
       "      <td>2.860000</td>\n",
       "      <td>3.89000</td>\n",
       "      <td>4.380000</td>\n",
       "      <td>3.530000</td>\n",
       "    </tr>\n",
       "    <tr>\n",
       "      <th>50%</th>\n",
       "      <td>6.580000</td>\n",
       "      <td>5.000000</td>\n",
       "      <td>5.56000</td>\n",
       "      <td>5.630000</td>\n",
       "      <td>5.880000</td>\n",
       "    </tr>\n",
       "    <tr>\n",
       "      <th>75%</th>\n",
       "      <td>9.170000</td>\n",
       "      <td>6.790000</td>\n",
       "      <td>6.67000</td>\n",
       "      <td>6.250000</td>\n",
       "      <td>8.240000</td>\n",
       "    </tr>\n",
       "    <tr>\n",
       "      <th>max</th>\n",
       "      <td>10.000000</td>\n",
       "      <td>9.640000</td>\n",
       "      <td>10.00000</td>\n",
       "      <td>10.000000</td>\n",
       "      <td>10.000000</td>\n",
       "    </tr>\n",
       "  </tbody>\n",
       "</table>\n",
       "</div>"
      ],
      "text/plain": [
       "       electoral_processand_pluralism  functioning_of_government  \\\n",
       "count                      167.000000                 167.000000   \n",
       "mean                         5.902934                   4.884671   \n",
       "std                          3.540180                   2.522545   \n",
       "min                          0.000000                   0.000000   \n",
       "25%                          3.000000                   2.860000   \n",
       "50%                          6.580000                   5.000000   \n",
       "75%                          9.170000                   6.790000   \n",
       "max                         10.000000                   9.640000   \n",
       "\n",
       "       political_participation  political_culture  civil_liberties  \n",
       "count                167.00000         167.000000       167.000000  \n",
       "mean                   5.24976           5.593952         5.768263  \n",
       "std                    1.87654           1.647974         2.676157  \n",
       "min                    1.11000           1.250000         0.000000  \n",
       "25%                    3.89000           4.380000         3.530000  \n",
       "50%                    5.56000           5.630000         5.880000  \n",
       "75%                    6.67000           6.250000         8.240000  \n",
       "max                   10.00000          10.000000        10.000000  "
      ]
     },
     "execution_count": 6,
     "metadata": {},
     "output_type": "execute_result"
    }
   ],
   "source": [
    "data_df.describe()"
   ]
  },
  {
   "cell_type": "markdown",
   "id": "6f658b11",
   "metadata": {},
   "source": [
    "Statistical analysis reveals different variance patterns and ranges across democracy variables, requiring standardization to ensure equal algorithmic weighting during clustering.\n",
    "\n",
    "Scaling will need to be performed so that all values in the dataset will be weighed equally and it allows for the algorithm to provide a more accurate response."
   ]
  },
  {
   "cell_type": "markdown",
   "id": "29db26c6",
   "metadata": {},
   "source": [
    "### Statistical Summary"
   ]
  },
  {
   "cell_type": "code",
   "execution_count": 7,
   "id": "48a8af33",
   "metadata": {},
   "outputs": [
    {
     "name": "stdout",
     "output_type": "stream",
     "text": [
      "Statistical Summary of Democracy Variables:\n",
      "\n",
      "Country Distribution by Democracy Category:\n",
      "category\n",
      "Flawed democracy    55\n",
      "Authoritarian       53\n",
      "Hybrid regime       39\n",
      "Full democracy      20\n",
      "Name: count, dtype: int64\n",
      "\n",
      "Data Range Validation:\n",
      "electoral_processand_pluralism: 0.00 - 10.00\n",
      "functioning_of_government: 0.00 - 9.64\n",
      "political_participation: 1.11 - 10.00\n",
      "political_culture: 1.25 - 10.00\n",
      "civil_liberties: 0.00 - 10.00\n"
     ]
    }
   ],
   "source": [
    "# Statistical summary of democracy variables\n",
    "print(\"Statistical Summary of Democracy Variables:\")\n",
    "df.describe()\n",
    "\n",
    "# Democracy regime distribution\n",
    "print(\"\\nCountry Distribution by Democracy Category:\")\n",
    "print(df['category'].value_counts())\n",
    "\n",
    "# Data range validation\n",
    "print(\"\\nData Range Validation:\")\n",
    "democracy_cols = ['electoral_processand_pluralism', 'functioning_of_government', \n",
    "                 'political_participation', 'political_culture', 'civil_liberties']\n",
    "for col in democracy_cols:\n",
    "    print(f\"{col}: {df[col].min():.2f} - {df[col].max():.2f}\")"
   ]
  },
  {
   "cell_type": "markdown",
   "id": "b5dd23f2",
   "metadata": {},
   "source": [
    "### Correlation Analysis"
   ]
  },
  {
   "cell_type": "code",
   "execution_count": 11,
   "id": "1f331c41",
   "metadata": {},
   "outputs": [
    {
     "data": {
      "image/png": "[encoded data removed]",
      "text/plain": [
       "<Figure size 800x600 with 2 Axes>"
      ]
     },
     "metadata": {},
     "output_type": "display_data"
    }
   ],
   "source": [
    "# Correlation analysis\n",
    "plt.figure(figsize=(8, 6))\n",
    "sns.heatmap(data_df.corr(), annot=True, cmap='coolwarm', center=0, \n",
    "            square=True, linewidths=0.5)\n",
    "plt.title('Correlation Matrix of Democracy Variables')\n",
    "plt.tight_layout()\n",
    "plt.show()"
   ]
  },
  {
   "cell_type": "markdown",
   "id": "d87094ab",
   "metadata": {},
   "source": [
    "The correlation analysis reveals that democracy variables are moderately to highly correlated (0.52-0.91), indicating they measure related but distinct aspects of governance. This supports the inclusion of all five dimensions in the clustering analysis, as each provides unique information about countries' political risk profiles while maintaining sufficient independence to avoid redundancy."
   ]
  },
  {
   "cell_type": "code",
   "execution_count": 15,
   "id": "19e44916",
   "metadata": {},
   "outputs": [
    {
     "name": "stdout",
     "output_type": "stream",
     "text": [
      "Scaling validation:\n",
      "Original data ranges:\n",
      "electoral_processand_pluralism: 0.00 - 10.00\n",
      "functioning_of_government: 0.00 - 9.64\n",
      "political_participation: 1.11 - 10.00\n",
      "political_culture: 1.25 - 10.00\n",
      "civil_liberties: 0.00 - 10.00\n",
      "\n",
      "Scaled data ranges:\n",
      "electoral_processand_pluralism: -1.67 - 1.16\n",
      "functioning_of_government: -1.94 - 1.89\n",
      "political_participation: -2.21 - 2.54\n",
      "political_culture: -2.64 - 2.68\n",
      "civil_liberties: -2.16 - 1.59\n"
     ]
    }
   ],
   "source": [
    "\n",
    "# Initialize the StandardScaler\n",
    "scaler = StandardScaler()\n",
    "\n",
    "# Apply scaling to democracy variables\n",
    "scaled_data = scaler.fit_transform(data_df)\n",
    "scaled_df = pd.DataFrame(scaled_data, columns=data_df.columns)\n",
    "\n",
    "# Validate scaling worked\n",
    "print(\"Scaling validation:\")\n",
    "print(\"Original data ranges:\")\n",
    "for col in data_df.columns:\n",
    "    print(f\"{col}: {data_df[col].min():.2f} - {data_df[col].max():.2f}\")\n",
    "\n",
    "print(\"\\nScaled data ranges:\")\n",
    "for col in scaled_df.columns:\n",
    "    print(f\"{col}: {scaled_df[col].min():.2f} - {scaled_df[col].max():.2f}\")"
   ]
  },
  {
   "cell_type": "code",
   "execution_count": null,
   "id": "f52b2650",
   "metadata": {},
   "outputs": [],
   "source": []
  }
 ],
 "metadata": {
  "kernelspec": {
   "display_name": ".venv",
   "language": "python",
   "name": "python3"
  },
  "language_info": {
   "codemirror_mode": {
    "name": "ipython",
    "version": 3
   },
   "file_extension": ".py",
   "mimetype": "text/x-python",
   "name": "python",
   "nbconvert_exporter": "python",
   "pygments_lexer": "ipython3",
   "version": "3.13.3"
  }
 },
 "nbformat": 4,
 "nbformat_minor": 5
}
